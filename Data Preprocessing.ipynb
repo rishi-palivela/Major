{
 "cells": [
  {
   "cell_type": "code",
   "execution_count": 1,
   "metadata": {},
   "outputs": [],
   "source": [
    "import pandas as pd\n",
    "import matplotlib.pyplot as plt\n",
    "import numpy as np\n"
   ]
  },
  {
   "cell_type": "code",
   "execution_count": 2,
   "metadata": {},
   "outputs": [],
   "source": [
    "dataset = pd.read_csv(r'G:\\Major Project\\TV_PricePrediction\\TV_new.csv')"
   ]
  },
  {
   "cell_type": "code",
   "execution_count": 3,
   "metadata": {},
   "outputs": [
    {
     "data": {
      "text/html": [
       "<div>\n",
       "<style scoped>\n",
       "    .dataframe tbody tr th:only-of-type {\n",
       "        vertical-align: middle;\n",
       "    }\n",
       "\n",
       "    .dataframe tbody tr th {\n",
       "        vertical-align: top;\n",
       "    }\n",
       "\n",
       "    .dataframe thead th {\n",
       "        text-align: right;\n",
       "    }\n",
       "</style>\n",
       "<table border=\"1\" class=\"dataframe\">\n",
       "  <thead>\n",
       "    <tr style=\"text-align: right;\">\n",
       "      <th></th>\n",
       "      <th>Brand</th>\n",
       "      <th>Ratings</th>\n",
       "      <th>Speaker</th>\n",
       "      <th>Size</th>\n",
       "      <th>HD</th>\n",
       "      <th>HDMI</th>\n",
       "      <th>USB</th>\n",
       "      <th>Cost</th>\n",
       "    </tr>\n",
       "  </thead>\n",
       "  <tbody>\n",
       "    <tr>\n",
       "      <th>0</th>\n",
       "      <td>Mi</td>\n",
       "      <td>4.4</td>\n",
       "      <td>20</td>\n",
       "      <td>32</td>\n",
       "      <td>HD</td>\n",
       "      <td>3</td>\n",
       "      <td>2</td>\n",
       "      <td>14999</td>\n",
       "    </tr>\n",
       "    <tr>\n",
       "      <th>1</th>\n",
       "      <td>realme</td>\n",
       "      <td>4.3</td>\n",
       "      <td>24</td>\n",
       "      <td>32</td>\n",
       "      <td>HD</td>\n",
       "      <td>3</td>\n",
       "      <td>2</td>\n",
       "      <td>14999</td>\n",
       "    </tr>\n",
       "    <tr>\n",
       "      <th>2</th>\n",
       "      <td>Mi</td>\n",
       "      <td>4.4</td>\n",
       "      <td>20</td>\n",
       "      <td>43</td>\n",
       "      <td>Ultra HD 4K</td>\n",
       "      <td>3</td>\n",
       "      <td>2</td>\n",
       "      <td>28999</td>\n",
       "    </tr>\n",
       "    <tr>\n",
       "      <th>3</th>\n",
       "      <td>SAMSUNG</td>\n",
       "      <td>4.4</td>\n",
       "      <td>20</td>\n",
       "      <td>32</td>\n",
       "      <td>HD</td>\n",
       "      <td>2</td>\n",
       "      <td>1</td>\n",
       "      <td>17499</td>\n",
       "    </tr>\n",
       "    <tr>\n",
       "      <th>4</th>\n",
       "      <td>LG</td>\n",
       "      <td>4.3</td>\n",
       "      <td>10</td>\n",
       "      <td>32</td>\n",
       "      <td>HD</td>\n",
       "      <td>2</td>\n",
       "      <td>1</td>\n",
       "      <td>16999</td>\n",
       "    </tr>\n",
       "    <tr>\n",
       "      <th>...</th>\n",
       "      <td>...</td>\n",
       "      <td>...</td>\n",
       "      <td>...</td>\n",
       "      <td>...</td>\n",
       "      <td>...</td>\n",
       "      <td>...</td>\n",
       "      <td>...</td>\n",
       "      <td>...</td>\n",
       "    </tr>\n",
       "    <tr>\n",
       "      <th>832</th>\n",
       "      <td>SAMSUNG</td>\n",
       "      <td>4.5</td>\n",
       "      <td>40</td>\n",
       "      <td>65</td>\n",
       "      <td>Ultra HD 4K</td>\n",
       "      <td>4</td>\n",
       "      <td>2</td>\n",
       "      <td>124999</td>\n",
       "    </tr>\n",
       "    <tr>\n",
       "      <th>833</th>\n",
       "      <td>Panasonic</td>\n",
       "      <td>4.8</td>\n",
       "      <td>20</td>\n",
       "      <td>42</td>\n",
       "      <td>Full HD</td>\n",
       "      <td>1</td>\n",
       "      <td>2</td>\n",
       "      <td>66900</td>\n",
       "    </tr>\n",
       "    <tr>\n",
       "      <th>834</th>\n",
       "      <td>TCL</td>\n",
       "      <td>4.5</td>\n",
       "      <td>20</td>\n",
       "      <td>55</td>\n",
       "      <td>Ultra HD 4K</td>\n",
       "      <td>2</td>\n",
       "      <td>1</td>\n",
       "      <td>39599</td>\n",
       "    </tr>\n",
       "    <tr>\n",
       "      <th>835</th>\n",
       "      <td>SAMSUNG</td>\n",
       "      <td>4.1</td>\n",
       "      <td>20</td>\n",
       "      <td>40</td>\n",
       "      <td>Ultra HD 4K</td>\n",
       "      <td>4</td>\n",
       "      <td>3</td>\n",
       "      <td>83900</td>\n",
       "    </tr>\n",
       "    <tr>\n",
       "      <th>836</th>\n",
       "      <td>SAMSUNG</td>\n",
       "      <td>4.4</td>\n",
       "      <td>20</td>\n",
       "      <td>32</td>\n",
       "      <td>HD</td>\n",
       "      <td>2</td>\n",
       "      <td>1</td>\n",
       "      <td>16999</td>\n",
       "    </tr>\n",
       "  </tbody>\n",
       "</table>\n",
       "<p>837 rows × 8 columns</p>\n",
       "</div>"
      ],
      "text/plain": [
       "         Brand  Ratings  Speaker  Size           HD  HDMI  USB    Cost\n",
       "0           Mi      4.4       20    32           HD     3    2   14999\n",
       "1       realme      4.3       24    32           HD     3    2   14999\n",
       "2           Mi      4.4       20    43  Ultra HD 4K     3    2   28999\n",
       "3      SAMSUNG      4.4       20    32           HD     2    1   17499\n",
       "4           LG      4.3       10    32           HD     2    1   16999\n",
       "..         ...      ...      ...   ...          ...   ...  ...     ...\n",
       "832    SAMSUNG      4.5       40    65  Ultra HD 4K     4    2  124999\n",
       "833  Panasonic      4.8       20    42      Full HD     1    2   66900\n",
       "834        TCL      4.5       20    55  Ultra HD 4K     2    1   39599\n",
       "835    SAMSUNG      4.1       20    40  Ultra HD 4K     4    3   83900\n",
       "836    SAMSUNG      4.4       20    32           HD     2    1   16999\n",
       "\n",
       "[837 rows x 8 columns]"
      ]
     },
     "execution_count": 3,
     "metadata": {},
     "output_type": "execute_result"
    }
   ],
   "source": [
    "dataset"
   ]
  },
  {
   "cell_type": "code",
   "execution_count": 4,
   "metadata": {},
   "outputs": [
    {
     "data": {
      "text/html": [
       "<div>\n",
       "<style scoped>\n",
       "    .dataframe tbody tr th:only-of-type {\n",
       "        vertical-align: middle;\n",
       "    }\n",
       "\n",
       "    .dataframe tbody tr th {\n",
       "        vertical-align: top;\n",
       "    }\n",
       "\n",
       "    .dataframe thead th {\n",
       "        text-align: right;\n",
       "    }\n",
       "</style>\n",
       "<table border=\"1\" class=\"dataframe\">\n",
       "  <thead>\n",
       "    <tr style=\"text-align: right;\">\n",
       "      <th></th>\n",
       "      <th>Ratings</th>\n",
       "      <th>Speaker</th>\n",
       "      <th>Size</th>\n",
       "      <th>HDMI</th>\n",
       "      <th>USB</th>\n",
       "      <th>Cost</th>\n",
       "    </tr>\n",
       "  </thead>\n",
       "  <tbody>\n",
       "    <tr>\n",
       "      <th>count</th>\n",
       "      <td>837.000000</td>\n",
       "      <td>837.000000</td>\n",
       "      <td>837.000000</td>\n",
       "      <td>837.000000</td>\n",
       "      <td>837.000000</td>\n",
       "      <td>837.000000</td>\n",
       "    </tr>\n",
       "    <tr>\n",
       "      <th>mean</th>\n",
       "      <td>4.319474</td>\n",
       "      <td>22.535245</td>\n",
       "      <td>46.144564</td>\n",
       "      <td>2.696535</td>\n",
       "      <td>1.831541</td>\n",
       "      <td>58554.931900</td>\n",
       "    </tr>\n",
       "    <tr>\n",
       "      <th>std</th>\n",
       "      <td>0.323802</td>\n",
       "      <td>9.803952</td>\n",
       "      <td>12.261871</td>\n",
       "      <td>0.962776</td>\n",
       "      <td>0.588209</td>\n",
       "      <td>52909.283063</td>\n",
       "    </tr>\n",
       "    <tr>\n",
       "      <th>min</th>\n",
       "      <td>1.800000</td>\n",
       "      <td>0.000000</td>\n",
       "      <td>5.000000</td>\n",
       "      <td>0.000000</td>\n",
       "      <td>0.000000</td>\n",
       "      <td>5999.000000</td>\n",
       "    </tr>\n",
       "    <tr>\n",
       "      <th>25%</th>\n",
       "      <td>4.200000</td>\n",
       "      <td>20.000000</td>\n",
       "      <td>32.000000</td>\n",
       "      <td>2.000000</td>\n",
       "      <td>1.000000</td>\n",
       "      <td>19999.000000</td>\n",
       "    </tr>\n",
       "    <tr>\n",
       "      <th>50%</th>\n",
       "      <td>4.400000</td>\n",
       "      <td>20.000000</td>\n",
       "      <td>46.000000</td>\n",
       "      <td>3.000000</td>\n",
       "      <td>2.000000</td>\n",
       "      <td>41999.000000</td>\n",
       "    </tr>\n",
       "    <tr>\n",
       "      <th>75%</th>\n",
       "      <td>4.500000</td>\n",
       "      <td>24.000000</td>\n",
       "      <td>55.000000</td>\n",
       "      <td>3.000000</td>\n",
       "      <td>2.000000</td>\n",
       "      <td>79500.000000</td>\n",
       "    </tr>\n",
       "    <tr>\n",
       "      <th>max</th>\n",
       "      <td>5.000000</td>\n",
       "      <td>98.000000</td>\n",
       "      <td>85.000000</td>\n",
       "      <td>4.000000</td>\n",
       "      <td>3.000000</td>\n",
       "      <td>469999.000000</td>\n",
       "    </tr>\n",
       "  </tbody>\n",
       "</table>\n",
       "</div>"
      ],
      "text/plain": [
       "          Ratings     Speaker        Size        HDMI         USB  \\\n",
       "count  837.000000  837.000000  837.000000  837.000000  837.000000   \n",
       "mean     4.319474   22.535245   46.144564    2.696535    1.831541   \n",
       "std      0.323802    9.803952   12.261871    0.962776    0.588209   \n",
       "min      1.800000    0.000000    5.000000    0.000000    0.000000   \n",
       "25%      4.200000   20.000000   32.000000    2.000000    1.000000   \n",
       "50%      4.400000   20.000000   46.000000    3.000000    2.000000   \n",
       "75%      4.500000   24.000000   55.000000    3.000000    2.000000   \n",
       "max      5.000000   98.000000   85.000000    4.000000    3.000000   \n",
       "\n",
       "                Cost  \n",
       "count     837.000000  \n",
       "mean    58554.931900  \n",
       "std     52909.283063  \n",
       "min      5999.000000  \n",
       "25%     19999.000000  \n",
       "50%     41999.000000  \n",
       "75%     79500.000000  \n",
       "max    469999.000000  "
      ]
     },
     "execution_count": 4,
     "metadata": {},
     "output_type": "execute_result"
    }
   ],
   "source": [
    "dataset.describe()"
   ]
  },
  {
   "cell_type": "code",
   "execution_count": 5,
   "metadata": {},
   "outputs": [
    {
     "data": {
      "text/plain": [
       "(array([183., 123., 104., 113.,  43.,  44.,  36.,  15.,  62.,  11.,  48.,\n",
       "          9.,   8.,  10.,   3.,   6.,   3.,   2.,   0.,   2.,   1.,   1.,\n",
       "          1.,   2.,   2.,   0.,   0.,   1.,   0.,   1.,   2.,   0.,   0.,\n",
       "          0.,   0.,   0.,   0.,   0.,   0.,   1.]),\n",
       " array([  5999.,  17599.,  29199.,  40799.,  52399.,  63999.,  75599.,\n",
       "         87199.,  98799., 110399., 121999., 133599., 145199., 156799.,\n",
       "        168399., 179999., 191599., 203199., 214799., 226399., 237999.,\n",
       "        249599., 261199., 272799., 284399., 295999., 307599., 319199.,\n",
       "        330799., 342399., 353999., 365599., 377199., 388799., 400399.,\n",
       "        411999., 423599., 435199., 446799., 458399., 469999.]),\n",
       " <BarContainer object of 40 artists>)"
      ]
     },
     "execution_count": 5,
     "metadata": {},
     "output_type": "execute_result"
    },
    {
     "data": {
      "image/png": "[encoded data removed]",
      "text/plain": [
       "<Figure size 432x288 with 1 Axes>"
      ]
     },
     "metadata": {
      "needs_background": "light"
     },
     "output_type": "display_data"
    }
   ],
   "source": [
    "plt.hist(dataset['Cost'], bins = 40)\n"
   ]
  },
  {
   "cell_type": "code",
   "execution_count": 6,
   "metadata": {},
   "outputs": [
    {
     "data": {
      "text/plain": [
       "57"
      ]
     },
     "execution_count": 6,
     "metadata": {},
     "output_type": "execute_result"
    }
   ],
   "source": [
    "len(dataset[\"Brand\"].unique())"
   ]
  },
  {
   "cell_type": "code",
   "execution_count": 7,
   "metadata": {},
   "outputs": [
    {
     "data": {
      "text/plain": [
       "array(['Mi', 'realme', 'SAMSUNG', 'LG', 'iFFALCON', 'Vu', 'OnePlus',\n",
       "       'Nokia', 'SONY', 'Panasonic', 'infinix', 'MOTOROLA', 'Thomson',\n",
       "       'Hisense', 'Coocaa', 'PHILIPS', 'KODAK', 'Compaq', 'TOSHIBA',\n",
       "       'Iffalcon', 'MarQ', 'Micromax', 'TCL', 'Haier', 'HUIDI', 'Sansui',\n",
       "       'Sanyo', 'IMPEX', 'JVC', 'ONIDA', 'CloudWalker', 'Weston', 'Onix',\n",
       "       'Blaupunkt', 'Intex', 'Lloyd', 'Infocus', 'NOBLE', 'G-TEN', 'IGO',\n",
       "       'Noble', 'SVL', 'Daiwa', 'Akai', 'POLAROID', 'Adsun', 'T-Series',\n",
       "       'Sharp', 'BPL', 'Dektron', 'Videocon', 'DETEL', 'Samsung', 'Croma',\n",
       "       'RGL', 'Hitachi', 'Sony'], dtype=object)"
      ]
     },
     "execution_count": 7,
     "metadata": {},
     "output_type": "execute_result"
    }
   ],
   "source": [
    "dataset[\"Brand\"].unique()"
   ]
  },
  {
   "cell_type": "code",
   "execution_count": 16,
   "metadata": {},
   "outputs": [],
   "source": [
    "data=dataset"
   ]
  },
  {
   "cell_type": "code",
   "execution_count": 9,
   "metadata": {},
   "outputs": [],
   "source": [
    "data[\"Brand\"]=data[\"Brand\"].str.lower()"
   ]
  },
  {
   "cell_type": "code",
   "execution_count": 10,
   "metadata": {},
   "outputs": [
    {
     "data": {
      "text/plain": [
       "53"
      ]
     },
     "execution_count": 10,
     "metadata": {},
     "output_type": "execute_result"
    }
   ],
   "source": [
    "len(data[\"Brand\"].unique())"
   ]
  },
  {
   "cell_type": "code",
   "execution_count": 11,
   "metadata": {},
   "outputs": [
    {
     "data": {
      "text/plain": [
       "Brand\n",
       "adsun          False\n",
       "akai           False\n",
       "blaupunkt       True\n",
       "bpl            False\n",
       "cloudwalker     True\n",
       "compaq         False\n",
       "coocaa         False\n",
       "croma          False\n",
       "daiwa          False\n",
       "dektron        False\n",
       "detel          False\n",
       "g-ten          False\n",
       "haier           True\n",
       "hisense         True\n",
       "hitachi        False\n",
       "huidi          False\n",
       "iffalcon        True\n",
       "igo            False\n",
       "impex          False\n",
       "infinix        False\n",
       "infocus        False\n",
       "intex          False\n",
       "jvc            False\n",
       "kodak           True\n",
       "lg              True\n",
       "lloyd          False\n",
       "marq           False\n",
       "mi              True\n",
       "micromax        True\n",
       "motorola        True\n",
       "noble          False\n",
       "nokia          False\n",
       "oneplus        False\n",
       "onida           True\n",
       "onix           False\n",
       "panasonic       True\n",
       "philips         True\n",
       "polaroid       False\n",
       "realme         False\n",
       "rgl            False\n",
       "samsung         True\n",
       "sansui          True\n",
       "sanyo          False\n",
       "sharp          False\n",
       "sony            True\n",
       "svl            False\n",
       "t-series       False\n",
       "tcl             True\n",
       "thomson         True\n",
       "toshiba        False\n",
       "videocon       False\n",
       "vu              True\n",
       "weston         False\n",
       "dtype: bool"
      ]
     },
     "execution_count": 11,
     "metadata": {},
     "output_type": "execute_result"
    }
   ],
   "source": [
    "data.groupby(\"Brand\").size()>5"
   ]
  },
  {
   "cell_type": "code",
   "execution_count": 15,
   "metadata": {},
   "outputs": [],
   "source": [
    "brands=[\"blaupunkt\",\"cloudwalker\",\"haier\",\"hisense\",\"kodak\",\"lg\",\"motorola\",\"mi\",\"micromax\",\"onida\",\"philips\",\n",
    "       \"panasonic\",\"samsung\",\"sony\",\"sansui\",\"tcl\",\"thomson\",\"vu\",\"iffalcon\"]"
   ]
  },
  {
   "cell_type": "code",
   "execution_count": 17,
   "metadata": {},
   "outputs": [],
   "source": [
    "data = data[data['Brand'].isin(brands)]"
   ]
  },
  {
   "cell_type": "code",
   "execution_count": 19,
   "metadata": {},
   "outputs": [
    {
     "data": {
      "text/plain": [
       "753"
      ]
     },
     "execution_count": 19,
     "metadata": {},
     "output_type": "execute_result"
    }
   ],
   "source": [
    "len(data)"
   ]
  },
  {
   "cell_type": "code",
   "execution_count": 20,
   "metadata": {},
   "outputs": [
    {
     "data": {
      "text/plain": [
       "array([20, 24, 10, 30, 39, 40, 50, 16,  2, 48,  0, 12, 35,  8, 60, 14, 98,\n",
       "        6,  5], dtype=int64)"
      ]
     },
     "execution_count": 20,
     "metadata": {},
     "output_type": "execute_result"
    }
   ],
   "source": [
    "dataset[\"Speaker\"].unique()"
   ]
  },
  {
   "cell_type": "code",
   "execution_count": 21,
   "metadata": {},
   "outputs": [
    {
     "data": {
      "text/plain": [
       "Speaker\n",
       "0      True\n",
       "2     False\n",
       "5     False\n",
       "6     False\n",
       "8      True\n",
       "10     True\n",
       "12    False\n",
       "14    False\n",
       "16     True\n",
       "20     True\n",
       "24     True\n",
       "30     True\n",
       "35     True\n",
       "40     True\n",
       "50     True\n",
       "60     True\n",
       "98    False\n",
       "dtype: bool"
      ]
     },
     "execution_count": 21,
     "metadata": {},
     "output_type": "execute_result"
    }
   ],
   "source": [
    "data.groupby(\"Speaker\").size()>5"
   ]
  },
  {
   "cell_type": "code",
   "execution_count": 22,
   "metadata": {},
   "outputs": [],
   "source": [
    "speaker=[8,10,16,20,24,30,35,40,50,60]\n",
    "data = data[data['Speaker'].isin(speaker)]"
   ]
  },
  {
   "cell_type": "code",
   "execution_count": 23,
   "metadata": {},
   "outputs": [
    {
     "data": {
      "text/plain": [
       "728"
      ]
     },
     "execution_count": 23,
     "metadata": {},
     "output_type": "execute_result"
    }
   ],
   "source": [
    "len(data)"
   ]
  },
  {
   "cell_type": "code",
   "execution_count": 24,
   "metadata": {},
   "outputs": [
    {
     "data": {
      "text/plain": [
       "array([32, 43, 40, 50, 65, 55, 24, 42, 49, 58, 75, 39, 85, 60,  5,  6, 48,\n",
       "       64, 37, 28, 23, 46, 51, 47], dtype=int64)"
      ]
     },
     "execution_count": 24,
     "metadata": {},
     "output_type": "execute_result"
    }
   ],
   "source": [
    "dataset[\"Size\"].unique()"
   ]
  },
  {
   "cell_type": "code",
   "execution_count": 25,
   "metadata": {},
   "outputs": [
    {
     "data": {
      "text/plain": [
       "Size\n",
       "5     False\n",
       "6     False\n",
       "24     True\n",
       "28    False\n",
       "32     True\n",
       "37    False\n",
       "39    False\n",
       "40     True\n",
       "42     True\n",
       "43     True\n",
       "46     True\n",
       "47    False\n",
       "48    False\n",
       "49     True\n",
       "50     True\n",
       "51    False\n",
       "55     True\n",
       "58    False\n",
       "60    False\n",
       "64    False\n",
       "65     True\n",
       "75    False\n",
       "85    False\n",
       "dtype: bool"
      ]
     },
     "execution_count": 25,
     "metadata": {},
     "output_type": "execute_result"
    }
   ],
   "source": [
    "data.groupby(\"Size\").size()>5"
   ]
  },
  {
   "cell_type": "code",
   "execution_count": 26,
   "metadata": {},
   "outputs": [],
   "source": [
    "size=[24,32,40,42,43,46,49,50,55,65]\n",
    "data = data[data['Size'].isin(size)]"
   ]
  },
  {
   "cell_type": "code",
   "execution_count": 27,
   "metadata": {},
   "outputs": [
    {
     "data": {
      "text/plain": [
       "699"
      ]
     },
     "execution_count": 27,
     "metadata": {},
     "output_type": "execute_result"
    }
   ],
   "source": [
    "len(data)"
   ]
  },
  {
   "cell_type": "code",
   "execution_count": 28,
   "metadata": {},
   "outputs": [
    {
     "data": {
      "text/html": [
       "<div>\n",
       "<style scoped>\n",
       "    .dataframe tbody tr th:only-of-type {\n",
       "        vertical-align: middle;\n",
       "    }\n",
       "\n",
       "    .dataframe tbody tr th {\n",
       "        vertical-align: top;\n",
       "    }\n",
       "\n",
       "    .dataframe thead th {\n",
       "        text-align: right;\n",
       "    }\n",
       "</style>\n",
       "<table border=\"1\" class=\"dataframe\">\n",
       "  <thead>\n",
       "    <tr style=\"text-align: right;\">\n",
       "      <th></th>\n",
       "      <th>Brand</th>\n",
       "      <th>Ratings</th>\n",
       "      <th>Speaker</th>\n",
       "      <th>Size</th>\n",
       "      <th>HD</th>\n",
       "      <th>HDMI</th>\n",
       "      <th>USB</th>\n",
       "      <th>Cost</th>\n",
       "    </tr>\n",
       "  </thead>\n",
       "  <tbody>\n",
       "    <tr>\n",
       "      <th>0</th>\n",
       "      <td>mi</td>\n",
       "      <td>4.4</td>\n",
       "      <td>20</td>\n",
       "      <td>32</td>\n",
       "      <td>HD</td>\n",
       "      <td>3</td>\n",
       "      <td>2</td>\n",
       "      <td>14999</td>\n",
       "    </tr>\n",
       "    <tr>\n",
       "      <th>2</th>\n",
       "      <td>mi</td>\n",
       "      <td>4.4</td>\n",
       "      <td>20</td>\n",
       "      <td>43</td>\n",
       "      <td>Ultra HD 4K</td>\n",
       "      <td>3</td>\n",
       "      <td>2</td>\n",
       "      <td>28999</td>\n",
       "    </tr>\n",
       "    <tr>\n",
       "      <th>3</th>\n",
       "      <td>samsung</td>\n",
       "      <td>4.4</td>\n",
       "      <td>20</td>\n",
       "      <td>32</td>\n",
       "      <td>HD</td>\n",
       "      <td>2</td>\n",
       "      <td>1</td>\n",
       "      <td>17499</td>\n",
       "    </tr>\n",
       "    <tr>\n",
       "      <th>4</th>\n",
       "      <td>lg</td>\n",
       "      <td>4.3</td>\n",
       "      <td>10</td>\n",
       "      <td>32</td>\n",
       "      <td>HD</td>\n",
       "      <td>2</td>\n",
       "      <td>1</td>\n",
       "      <td>16999</td>\n",
       "    </tr>\n",
       "    <tr>\n",
       "      <th>5</th>\n",
       "      <td>samsung</td>\n",
       "      <td>4.4</td>\n",
       "      <td>20</td>\n",
       "      <td>32</td>\n",
       "      <td>HD</td>\n",
       "      <td>2</td>\n",
       "      <td>1</td>\n",
       "      <td>16999</td>\n",
       "    </tr>\n",
       "    <tr>\n",
       "      <th>...</th>\n",
       "      <td>...</td>\n",
       "      <td>...</td>\n",
       "      <td>...</td>\n",
       "      <td>...</td>\n",
       "      <td>...</td>\n",
       "      <td>...</td>\n",
       "      <td>...</td>\n",
       "      <td>...</td>\n",
       "    </tr>\n",
       "    <tr>\n",
       "      <th>832</th>\n",
       "      <td>samsung</td>\n",
       "      <td>4.5</td>\n",
       "      <td>40</td>\n",
       "      <td>65</td>\n",
       "      <td>Ultra HD 4K</td>\n",
       "      <td>4</td>\n",
       "      <td>2</td>\n",
       "      <td>124999</td>\n",
       "    </tr>\n",
       "    <tr>\n",
       "      <th>833</th>\n",
       "      <td>panasonic</td>\n",
       "      <td>4.8</td>\n",
       "      <td>20</td>\n",
       "      <td>42</td>\n",
       "      <td>Full HD</td>\n",
       "      <td>1</td>\n",
       "      <td>2</td>\n",
       "      <td>66900</td>\n",
       "    </tr>\n",
       "    <tr>\n",
       "      <th>834</th>\n",
       "      <td>tcl</td>\n",
       "      <td>4.5</td>\n",
       "      <td>20</td>\n",
       "      <td>55</td>\n",
       "      <td>Ultra HD 4K</td>\n",
       "      <td>2</td>\n",
       "      <td>1</td>\n",
       "      <td>39599</td>\n",
       "    </tr>\n",
       "    <tr>\n",
       "      <th>835</th>\n",
       "      <td>samsung</td>\n",
       "      <td>4.1</td>\n",
       "      <td>20</td>\n",
       "      <td>40</td>\n",
       "      <td>Ultra HD 4K</td>\n",
       "      <td>4</td>\n",
       "      <td>3</td>\n",
       "      <td>83900</td>\n",
       "    </tr>\n",
       "    <tr>\n",
       "      <th>836</th>\n",
       "      <td>samsung</td>\n",
       "      <td>4.4</td>\n",
       "      <td>20</td>\n",
       "      <td>32</td>\n",
       "      <td>HD</td>\n",
       "      <td>2</td>\n",
       "      <td>1</td>\n",
       "      <td>16999</td>\n",
       "    </tr>\n",
       "  </tbody>\n",
       "</table>\n",
       "<p>699 rows × 8 columns</p>\n",
       "</div>"
      ],
      "text/plain": [
       "         Brand  Ratings  Speaker  Size           HD  HDMI  USB    Cost\n",
       "0           mi      4.4       20    32           HD     3    2   14999\n",
       "2           mi      4.4       20    43  Ultra HD 4K     3    2   28999\n",
       "3      samsung      4.4       20    32           HD     2    1   17499\n",
       "4           lg      4.3       10    32           HD     2    1   16999\n",
       "5      samsung      4.4       20    32           HD     2    1   16999\n",
       "..         ...      ...      ...   ...          ...   ...  ...     ...\n",
       "832    samsung      4.5       40    65  Ultra HD 4K     4    2  124999\n",
       "833  panasonic      4.8       20    42      Full HD     1    2   66900\n",
       "834        tcl      4.5       20    55  Ultra HD 4K     2    1   39599\n",
       "835    samsung      4.1       20    40  Ultra HD 4K     4    3   83900\n",
       "836    samsung      4.4       20    32           HD     2    1   16999\n",
       "\n",
       "[699 rows x 8 columns]"
      ]
     },
     "execution_count": 28,
     "metadata": {},
     "output_type": "execute_result"
    }
   ],
   "source": [
    "data"
   ]
  },
  {
   "cell_type": "code",
   "execution_count": 29,
   "metadata": {},
   "outputs": [
    {
     "data": {
      "text/plain": [
       "HD\n",
       "Full HD        True\n",
       "HD             True\n",
       "Ultra HD 4K    True\n",
       "dtype: bool"
      ]
     },
     "execution_count": 29,
     "metadata": {},
     "output_type": "execute_result"
    }
   ],
   "source": [
    "data.groupby(\"HD\").size()>20"
   ]
  },
  {
   "cell_type": "code",
   "execution_count": 30,
   "metadata": {},
   "outputs": [
    {
     "data": {
      "text/plain": [
       "array([4.4, 4.3, 4.5, 4.2, 4.6, 4.1, 4.9, 4.8, 4. , 3.9, 3.7, 4.7, 5. ,\n",
       "       1.8, 2.8, 3.6, 3. , 3.8, 2.3, 3.5, 2.7, 3.3, 3.4, 3.2])"
      ]
     },
     "execution_count": 30,
     "metadata": {},
     "output_type": "execute_result"
    }
   ],
   "source": [
    "dataset[\"Ratings\"].unique()"
   ]
  },
  {
   "cell_type": "code",
   "execution_count": 31,
   "metadata": {},
   "outputs": [
    {
     "data": {
      "text/plain": [
       "Ratings\n",
       "1.8    False\n",
       "2.3    False\n",
       "2.7    False\n",
       "2.8    False\n",
       "3.0    False\n",
       "3.3    False\n",
       "3.4    False\n",
       "3.5    False\n",
       "3.6    False\n",
       "3.7     True\n",
       "3.8    False\n",
       "3.9     True\n",
       "4.0     True\n",
       "4.1     True\n",
       "4.2     True\n",
       "4.3     True\n",
       "4.4     True\n",
       "4.5     True\n",
       "4.6     True\n",
       "4.7     True\n",
       "4.8     True\n",
       "4.9    False\n",
       "5.0     True\n",
       "dtype: bool"
      ]
     },
     "execution_count": 31,
     "metadata": {},
     "output_type": "execute_result"
    }
   ],
   "source": [
    "data.groupby(\"Ratings\").size()>10"
   ]
  },
  {
   "cell_type": "code",
   "execution_count": 32,
   "metadata": {},
   "outputs": [],
   "source": [
    "data = data.drop(data['Ratings'][ data['Ratings'] <3.7 ].index)"
   ]
  },
  {
   "cell_type": "code",
   "execution_count": 33,
   "metadata": {},
   "outputs": [
    {
     "data": {
      "text/plain": [
       "681"
      ]
     },
     "execution_count": 33,
     "metadata": {},
     "output_type": "execute_result"
    }
   ],
   "source": [
    "len(data)"
   ]
  },
  {
   "cell_type": "code",
   "execution_count": 34,
   "metadata": {},
   "outputs": [],
   "source": [
    "data = data.drop(data['Cost'][ data['Cost'] >150000 ].index)"
   ]
  },
  {
   "cell_type": "code",
   "execution_count": 35,
   "metadata": {},
   "outputs": [],
   "source": [
    "data.to_csv(r\"G:\\Major Project\\TV_PricePrediction\\Final_data.csv\",index=False)"
   ]
  },
  {
   "cell_type": "code",
   "execution_count": null,
   "metadata": {},
   "outputs": [],
   "source": []
  }
 ],
 "metadata": {
  "kernelspec": {
   "display_name": "Python 3",
   "language": "python",
   "name": "python3"
  },
  "language_info": {
   "codemirror_mode": {
    "name": "ipython",
    "version": 3
   },
   "file_extension": ".py",
   "mimetype": "text/x-python",
   "name": "python",
   "nbconvert_exporter": "python",
   "pygments_lexer": "ipython3",
   "version": "3.6.13"
  }
 },
 "nbformat": 4,
 "nbformat_minor": 4
}
